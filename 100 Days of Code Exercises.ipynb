{
 "cells": [
  {
   "cell_type": "markdown",
   "metadata": {},
   "source": [
    "# 100 Days of Code Exercises #"
   ]
  },
  {
   "cell_type": "code",
   "execution_count": 5,
   "metadata": {},
   "outputs": [
    {
     "name": "stdout",
     "output_type": "stream",
     "text": [
      "Your BMI is 26.12.\n"
     ]
    }
   ],
   "source": [
    "# BMI Calculator #\n",
    "\n",
    "height = input(\"enter your height in m: \")\n",
    "weight = input(\"enter your weight in kg: \")\n",
    "\n",
    "w=float(weight)\n",
    "h=float(height)\n",
    "\n",
    "print('Your BMI is ' + str(round(w/(h**2),2)) + '!')"
   ]
  },
  {
   "cell_type": "code",
   "execution_count": 9,
   "metadata": {},
   "outputs": [
    {
     "name": "stdout",
     "output_type": "stream",
     "text": [
      "Your BMI is 26.12\n"
     ]
    }
   ],
   "source": [
    "# BMI Calculator w/ F String#\n",
    "\n",
    "height = input(\"enter your height in m: \")\n",
    "weight = input(\"enter your weight in kg: \")\n",
    "\n",
    "w=float(weight)\n",
    "h=float(height)\n",
    "\n",
    "bmi=round(w/(h**2),2)\n",
    "\n",
    "print(f\"Your BMI is {bmi}\")"
   ]
  },
  {
   "cell_type": "code",
   "execution_count": 13,
   "metadata": {},
   "outputs": [
    {
     "name": "stdout",
     "output_type": "stream",
     "text": [
      "You have 19710 days, 2808 weeks, and 648 months left\n"
     ]
    }
   ],
   "source": [
    "# Your Life in Weeks #\n",
    "\n",
    "age = int(input(\"What is your current Age?\"))\n",
    "\n",
    "months = int(90*12) - int(age * 12)\n",
    "weeks = int(90*52) - int(age * 52)\n",
    "days = int(90*365) - int(age * 365)\n",
    "\n",
    "print(f\"You have {days} days, {weeks} weeks, and {months} months left\")"
   ]
  },
  {
   "cell_type": "code",
   "execution_count": 28,
   "metadata": {},
   "outputs": [
    {
     "name": "stdout",
     "output_type": "stream",
     "text": [
      "Welcome to the tip calculator.\n",
      "Each person should pay 33.60\n"
     ]
    }
   ],
   "source": [
    "# Tip Calculator - My Version#\n",
    "\n",
    "print('Welcome to the tip calculator.')\n",
    "\n",
    "Bill = float(input('What was the total bill? '))\n",
    "Tip = float(input('What percentage tip would you like to give? (10, 12, 15): '))\n",
    "Tip_prec = Tip/100+1\n",
    "Total = float(format(Bill * Tip_prec,\".2f\"))\n",
    "Split = int(input('How many people to split the bill? '))\n",
    "Final = format(Total/Split,\".2f\")\n",
    "print(f\"Each person should pay {Final}\")"
   ]
  }
 ],
 "metadata": {
  "kernelspec": {
   "display_name": "Python 3.9.13 ('base')",
   "language": "python",
   "name": "python3"
  },
  "language_info": {
   "codemirror_mode": {
    "name": "ipython",
    "version": 3
   },
   "file_extension": ".py",
   "mimetype": "text/x-python",
   "name": "python",
   "nbconvert_exporter": "python",
   "pygments_lexer": "ipython3",
   "version": "3.9.13"
  },
  "orig_nbformat": 4,
  "vscode": {
   "interpreter": {
    "hash": "3c364e86333ef8c77216e3494a93c72def2808f7e926af4a40b9ba608c248d3c"
   }
  }
 },
 "nbformat": 4,
 "nbformat_minor": 2
}
